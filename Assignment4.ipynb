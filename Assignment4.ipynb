{
 "cells": [
  {
   "attachments": {},
   "cell_type": "markdown",
   "metadata": {},
   "source": [
    "1. What exactly is []?"
   ]
  },
  {
   "attachments": {},
   "cell_type": "markdown",
   "metadata": {},
   "source": [
    "Its an empty list "
   ]
  },
  {
   "attachments": {},
   "cell_type": "markdown",
   "metadata": {},
   "source": [
    "2. In a list of values stored in a variable called spam, how would you assign the value &#39;hello&#39; as the\n",
    "third value? (Assume [2, 4, 6, 8, 10] are in spam.)"
   ]
  },
  {
   "cell_type": "code",
   "execution_count": 2,
   "metadata": {},
   "outputs": [
    {
     "name": "stdout",
     "output_type": "stream",
     "text": [
      "[2, 4, 'hello', 8, 10]\n"
     ]
    }
   ],
   "source": [
    "spam = [2, 4, 6, 8, 10]\n",
    "spam[2] = 'hello'\n",
    "print(spam)"
   ]
  },
  {
   "attachments": {},
   "cell_type": "markdown",
   "metadata": {},
   "source": [
    "Let&#39;s pretend the spam includes the list [&#39;a&#39;, &#39;b&#39;, &#39;c&#39;, &#39;d&#39;] for the next three queries."
   ]
  },
  {
   "attachments": {},
   "cell_type": "markdown",
   "metadata": {},
   "source": [
    "3. What is the value of spam[int(int(&#39;3&#39; * 2) / 11)]?\n",
    "\n",
    "'d'"
   ]
  },
  {
   "attachments": {},
   "cell_type": "markdown",
   "metadata": {},
   "source": [
    "4. What is the value of spam[-1]?\n",
    "\n",
    "'d'"
   ]
  },
  {
   "attachments": {},
   "cell_type": "markdown",
   "metadata": {},
   "source": [
    "5. What is the value of spam[:2]?\n",
    "\n",
    "['a','b']"
   ]
  },
  {
   "attachments": {},
   "cell_type": "markdown",
   "metadata": {},
   "source": [
    "Let&#39;s pretend bacon has the list [3.14, &#39;cat,&#39; 11, &#39;cat,&#39; True] for the next three questions."
   ]
  },
  {
   "attachments": {},
   "cell_type": "markdown",
   "metadata": {},
   "source": [
    "6. What is the value of bacon.index(&#39;cat&#39;)?\n",
    "\n",
    "1\n"
   ]
  },
  {
   "attachments": {},
   "cell_type": "markdown",
   "metadata": {},
   "source": [
    "7. How does bacon.append(99) change the look of the list value in bacon?"
   ]
  },
  {
   "cell_type": "code",
   "execution_count": 7,
   "metadata": {},
   "outputs": [
    {
     "data": {
      "text/plain": [
       "[3.14, 'cat', 11, 'cat', True, 99]"
      ]
     },
     "execution_count": 7,
     "metadata": {},
     "output_type": "execute_result"
    }
   ],
   "source": [
    "bacon = [3.14, 'cat', 11, 'cat', True]\n",
    "bacon.append(99) #adds 99 at the end of the list\n",
    "\n",
    "bacon"
   ]
  },
  {
   "cell_type": "markdown",
   "metadata": {},
   "source": [
    "8. How does bacon.remove(&#39;cat&#39;) change the look of the list in bacon?"
   ]
  },
  {
   "cell_type": "code",
   "execution_count": 8,
   "metadata": {},
   "outputs": [
    {
     "data": {
      "text/plain": [
       "[3.14, 11, 'cat', True, 99]"
      ]
     },
     "execution_count": 8,
     "metadata": {},
     "output_type": "execute_result"
    }
   ],
   "source": [
    "bacon.remove('cat') # removes 1st occurrence of cat\n",
    "bacon"
   ]
  },
  {
   "cell_type": "markdown",
   "metadata": {},
   "source": [
    "9. What are the list concatenation and list replication operators?"
   ]
  },
  {
   "cell_type": "markdown",
   "metadata": {},
   "source": [
    "In Python, the + operator can be used to concatenate two lists, which means that it combines the elements of the two lists into a single list. For example:"
   ]
  },
  {
   "cell_type": "code",
   "execution_count": 10,
   "metadata": {},
   "outputs": [
    {
     "name": "stdout",
     "output_type": "stream",
     "text": [
      "[1, 2, 3, 4, 5, 6]\n"
     ]
    }
   ],
   "source": [
    "list1 = [1, 2, 3]\n",
    "list2 = [4, 5, 6]\n",
    "list3 = list1 + list2\n",
    "print(list3)\n"
   ]
  },
  {
   "cell_type": "markdown",
   "metadata": {},
   "source": [
    "The output of this code would be [1, 2, 3, 4, 5, 6].\n",
    "\n",
    "The * operator can be used to replicate a list a certain number of times. For example:\n",
    "\n"
   ]
  },
  {
   "cell_type": "code",
   "execution_count": 11,
   "metadata": {},
   "outputs": [
    {
     "name": "stdout",
     "output_type": "stream",
     "text": [
      "[1, 2, 3, 1, 2, 3, 1, 2, 3]\n"
     ]
    }
   ],
   "source": [
    "list1 = [1, 2, 3]\n",
    "list2 = list1 * 3\n",
    "print(list2)\n"
   ]
  },
  {
   "cell_type": "markdown",
   "metadata": {},
   "source": [
    "The output of this code would be [1, 2, 3, 1, 2, 3, 1, 2, 3].\n",
    "\n",
    "Both of these operators can be used with other sequence types in Python as well, such as strings and tuples."
   ]
  },
  {
   "attachments": {},
   "cell_type": "markdown",
   "metadata": {},
   "source": [
    "10. What is difference between the list methods append() and insert()?\n",
    "\n"
   ]
  },
  {
   "attachments": {},
   "cell_type": "markdown",
   "metadata": {},
   "source": [
    "The append() method is used to add an element to the end of a list. It takes a single argument, which is the element to be added. For example:"
   ]
  },
  {
   "cell_type": "code",
   "execution_count": 12,
   "metadata": {},
   "outputs": [
    {
     "name": "stdout",
     "output_type": "stream",
     "text": [
      "[1, 2, 3, 4]\n"
     ]
    }
   ],
   "source": [
    "list1 = [1, 2, 3]\n",
    "list1.append(4)\n",
    "print(list1)\n"
   ]
  },
  {
   "cell_type": "markdown",
   "metadata": {},
   "source": [
    "The output of this code would be [1, 2, 3, 4].\n",
    "\n",
    "The insert() method is used to insert an element at a specific position in a list. It takes two arguments: the index at which the element should be inserted, and the element itself. For example:"
   ]
  },
  {
   "cell_type": "code",
   "execution_count": 13,
   "metadata": {},
   "outputs": [
    {
     "name": "stdout",
     "output_type": "stream",
     "text": [
      "[1, 4, 2, 3]\n"
     ]
    }
   ],
   "source": [
    "list1 = [1, 2, 3]\n",
    "list1.insert(1, 4)\n",
    "print(list1)\n"
   ]
  },
  {
   "cell_type": "markdown",
   "metadata": {},
   "source": [
    "The output of this code would be [1, 4, 2, 3].\n",
    "\n",
    "So, the main difference between append() and insert() is that append() adds an element to the end of the list, while insert() adds an element at a specific position in the list."
   ]
  },
  {
   "attachments": {},
   "cell_type": "markdown",
   "metadata": {},
   "source": [
    "11. What are the two methods for removing items from a list?"
   ]
  },
  {
   "attachments": {},
   "cell_type": "markdown",
   "metadata": {},
   "source": [
    "There are two main methods for removing items from a list in Python: remove() and pop().\n",
    "\n",
    "The remove() method removes the first occurrence of a specified element from the list. It takes a single argument, which is the element to be removed. If the element is not found in the list, it raises a ValueError exception. For example:"
   ]
  },
  {
   "cell_type": "code",
   "execution_count": 14,
   "metadata": {},
   "outputs": [
    {
     "name": "stdout",
     "output_type": "stream",
     "text": [
      "[1, 2, 4, 5]\n"
     ]
    }
   ],
   "source": [
    "list1 = [1, 2, 3, 4, 5]\n",
    "list1.remove(3)\n",
    "print(list1)\n"
   ]
  },
  {
   "cell_type": "markdown",
   "metadata": {},
   "source": [
    "The output of this code would be [1, 2, 4, 5].\n",
    "\n",
    "The pop() method removes an element from the list at a specific position. It takes a single argument, which is the index of the element to be removed. If no index is specified, it removes and returns the last element of the list. For example:"
   ]
  },
  {
   "cell_type": "code",
   "execution_count": 15,
   "metadata": {},
   "outputs": [
    {
     "name": "stdout",
     "output_type": "stream",
     "text": [
      "[1, 2, 4, 5]\n",
      "3\n"
     ]
    }
   ],
   "source": [
    "list1 = [1, 2, 3, 4, 5]\n",
    "item = list1.pop(2)\n",
    "print(list1)\n",
    "print(item)\n"
   ]
  },
  {
   "cell_type": "markdown",
   "metadata": {},
   "source": [
    "The output of this code would be [1, 2, 4, 5] and 3.\n",
    "\n",
    "So, the main difference between remove() and pop() is that remove() removes an element by value, while pop() removes an element by index.\n",
    "\n",
    "\n",
    "\n"
   ]
  },
  {
   "attachments": {},
   "cell_type": "markdown",
   "metadata": {},
   "source": [
    "12. Describe how list values and string values are identical."
   ]
  },
  {
   "attachments": {},
   "cell_type": "markdown",
   "metadata": {},
   "source": [
    "In Python, both lists and strings are sequence types, which means that they are collections of values that can be iterated over. Both lists and strings can contain elements of any data type, and both can be indexed, sliced, and modified using a variety of built-in methods.\n",
    "\n",
    "One key difference between lists and strings is that lists are mutable, which means that their values can be changed after they are created. Strings, on the other hand, are immutable, which means that their values cannot be changed once they are created.\n",
    "\n",
    "Here are some examples of how list values and string values are similar in Python:\n",
    "\n",
    "Both lists and strings can be accessed using their index:"
   ]
  },
  {
   "cell_type": "code",
   "execution_count": 16,
   "metadata": {},
   "outputs": [
    {
     "name": "stdout",
     "output_type": "stream",
     "text": [
      "3\n",
      "o\n"
     ]
    }
   ],
   "source": [
    "list1 = [1, 2, 3, 4, 5]\n",
    "string1 = \"Hello\"\n",
    "\n",
    "print(list1[2])  # Output: 3\n",
    "print(string1[4])  # Output: \"o\"\n"
   ]
  },
  {
   "cell_type": "markdown",
   "metadata": {},
   "source": [
    "Both lists and strings can be sliced using the [start:end:step] notation:"
   ]
  },
  {
   "cell_type": "code",
   "execution_count": 17,
   "metadata": {},
   "outputs": [
    {
     "name": "stdout",
     "output_type": "stream",
     "text": [
      "[2, 3]\n",
      "ell\n"
     ]
    }
   ],
   "source": [
    "list1 = [1, 2, 3, 4, 5]\n",
    "string1 = \"Hello\"\n",
    "\n",
    "print(list1[1:3])  # Output: [2, 3]\n",
    "print(string1[1:4])  # Output: \"ell\"\n"
   ]
  },
  {
   "cell_type": "markdown",
   "metadata": {},
   "source": [
    "Both lists and strings can be iterated over using a for loop:"
   ]
  },
  {
   "cell_type": "code",
   "execution_count": 18,
   "metadata": {},
   "outputs": [
    {
     "name": "stdout",
     "output_type": "stream",
     "text": [
      "1\n",
      "2\n",
      "3\n",
      "4\n",
      "5\n",
      "H\n",
      "e\n",
      "l\n",
      "l\n",
      "o\n"
     ]
    }
   ],
   "source": [
    "list1 = [1, 2, 3, 4, 5]\n",
    "string1 = \"Hello\"\n",
    "\n",
    "for element in list1:\n",
    "    print(element)\n",
    "\n",
    "for character in string1:\n",
    "    print(character)\n"
   ]
  },
  {
   "cell_type": "markdown",
   "metadata": {},
   "source": [
    "So, while lists and strings have some differences, they also have many similarities in terms of how they can be used and manipulated in Python."
   ]
  },
  {
   "attachments": {},
   "cell_type": "markdown",
   "metadata": {},
   "source": [
    "13. What&#39;s the difference between tuples and lists?"
   ]
  },
  {
   "attachments": {},
   "cell_type": "markdown",
   "metadata": {},
   "source": [
    "In Python, lists and tuples are both sequence types, which means that they are collections of values that can be iterated over. However, there are some key differences between the two types:\n",
    "\n",
    "Lists are mutable, which means that their values can be changed after they are created. Tuples are immutable, which means that their values cannot be changed once they are created.\n",
    "\n",
    "Lists are defined using square brackets ([]), while tuples are defined using parentheses (()).\n",
    "\n",
    "Lists have a number of built-in methods, such as append(), insert(), and remove(), that can be used to modify the list. Tuples do not have these methods, since they are immutable.\n",
    "\n",
    "Here are some examples of how lists and tuples are used in Python:"
   ]
  },
  {
   "cell_type": "code",
   "execution_count": 19,
   "metadata": {},
   "outputs": [
    {
     "name": "stdout",
     "output_type": "stream",
     "text": [
      "[1, 2, 3, 4, 5, 6]\n"
     ]
    },
    {
     "ename": "AttributeError",
     "evalue": "'tuple' object has no attribute 'append'",
     "output_type": "error",
     "traceback": [
      "\u001b[0;31m---------------------------------------------------------------------------\u001b[0m",
      "\u001b[0;31mAttributeError\u001b[0m                            Traceback (most recent call last)",
      "Cell \u001b[0;32mIn [19], line 10\u001b[0m\n\u001b[1;32m      7\u001b[0m \u001b[39mprint\u001b[39m(list1)  \u001b[39m# Output: [1, 2, 3, 4, 5, 6]\u001b[39;00m\n\u001b[1;32m      9\u001b[0m \u001b[39m# Modifying a tuple (this would raise a TypeError)\u001b[39;00m\n\u001b[0;32m---> 10\u001b[0m tuple1\u001b[39m.\u001b[39;49mappend(\u001b[39m6\u001b[39m)\n\u001b[1;32m     12\u001b[0m \u001b[39m# Accessing elements of a list and a tuple\u001b[39;00m\n\u001b[1;32m     13\u001b[0m \u001b[39mprint\u001b[39m(list1[\u001b[39m2\u001b[39m])  \u001b[39m# Output: 3\u001b[39;00m\n",
      "\u001b[0;31mAttributeError\u001b[0m: 'tuple' object has no attribute 'append'"
     ]
    }
   ],
   "source": [
    "# Defining a list and a tuple\n",
    "list1 = [1, 2, 3, 4, 5]\n",
    "tuple1 = (1, 2, 3, 4, 5)\n",
    "\n",
    "# Modifying a list\n",
    "list1.append(6)\n",
    "print(list1)  # Output: [1, 2, 3, 4, 5, 6]\n",
    "\n",
    "# Modifying a tuple (this would raise a TypeError)\n",
    "tuple1.append(6)\n",
    "\n",
    "# Accessing elements of a list and a tuple\n",
    "print(list1[2])  # Output: 3\n",
    "print(tuple1[2])  # Output: 3\n",
    "\n",
    "# Iterating over a list and a tuple\n",
    "for element in list1:\n",
    "    print(element)\n",
    "\n",
    "for element in tuple1:\n",
    "    print(element)\n"
   ]
  },
  {
   "cell_type": "markdown",
   "metadata": {},
   "source": [
    "So, the main differences between lists and tuples are their mutability and the methods that are available for modifying them. Lists are generally more flexible and powerful than tuples, but tuples can be useful when you need to store a set of values that should not be changed."
   ]
  },
  {
   "attachments": {},
   "cell_type": "markdown",
   "metadata": {},
   "source": [
    "14. How do you type a tuple value that only contains the integer 42?"
   ]
  },
  {
   "cell_type": "code",
   "execution_count": 21,
   "metadata": {},
   "outputs": [
    {
     "data": {
      "text/plain": [
       "tuple"
      ]
     },
     "execution_count": 21,
     "metadata": {},
     "output_type": "execute_result"
    }
   ],
   "source": [
    "t = 42,\n",
    "type(t) #This will give output as tuple"
   ]
  },
  {
   "cell_type": "markdown",
   "metadata": {},
   "source": [
    "15. How do you get a list value&#39;s tuple form? How do you get a tuple value&#39;s list form?"
   ]
  },
  {
   "cell_type": "markdown",
   "metadata": {},
   "source": [
    "The tuple() and list() functions, respectively are used to convert a list to tuple and vice versa"
   ]
  },
  {
   "attachments": {},
   "cell_type": "markdown",
   "metadata": {},
   "source": [
    "16. Variables that &quot;contain&quot; list values are not necessarily lists themselves. Instead, what do they\n",
    "contain?"
   ]
  },
  {
   "attachments": {},
   "cell_type": "markdown",
   "metadata": {},
   "source": [
    "Variables that \"contain\" list values actually contain references to list objects, rather than the list objects themselves.\n",
    "\n",
    "In Python, when you assign a list to a variable, the variable does not actually contain the list itself. Instead, it contains a reference to the list object in memory. This means that if you make a change to the list object through the variable, the change will be reflected in any other variables that reference the same list object.\n",
    "\n",
    "For example:"
   ]
  },
  {
   "cell_type": "code",
   "execution_count": 22,
   "metadata": {},
   "outputs": [
    {
     "name": "stdout",
     "output_type": "stream",
     "text": [
      "True\n",
      "[1, 2, 3, 4]\n"
     ]
    }
   ],
   "source": [
    "my_list = [1, 2, 3]\n",
    "another_list = my_list\n",
    "\n",
    "# Both `my_list` and `another_list` reference the same list object\n",
    "print(my_list is another_list)  # prints True\n",
    "\n",
    "# Modifying the list through `my_list` affects the list object that\n",
    "# `another_list` references\n",
    "my_list.append(4)\n",
    "print(another_list)  # prints [1, 2, 3, 4]\n"
   ]
  },
  {
   "cell_type": "markdown",
   "metadata": {},
   "source": [
    "This behavior is different from some other programming languages, where assigning a list to a variable creates a new copy of the list. In Python, this behavior can be achieved using the copy module or the list function."
   ]
  },
  {
   "cell_type": "code",
   "execution_count": 23,
   "metadata": {},
   "outputs": [
    {
     "name": "stdout",
     "output_type": "stream",
     "text": [
      "False\n",
      "[1, 2, 3]\n"
     ]
    }
   ],
   "source": [
    "import copy\n",
    "\n",
    "my_list = [1, 2, 3]\n",
    "another_list = copy.deepcopy(my_list)  # creates a new, independent copy of `my_list`\n",
    "\n",
    "# `another_list` is now a separate list object from `my_list`\n",
    "print(my_list is another_list)  # prints False\n",
    "\n",
    "# Modifying `my_list` does not affect `another_list`\n",
    "my_list.append(4)\n",
    "print(another_list)  # prints [1, 2, 3]\n"
   ]
  },
  {
   "cell_type": "markdown",
   "metadata": {},
   "source": [
    "17. How do you distinguish between copy.copy() and copy.deepcopy()?"
   ]
  },
  {
   "attachments": {},
   "cell_type": "markdown",
   "metadata": {},
   "source": [
    "copy.copy() and copy.deepcopy() are functions that are used to create copies of objects in Python. The main difference between them is the depth of the copy that they create.\n",
    "\n",
    "copy.copy() creates a shallow copy of an object. This means that it creates a new object with a new reference, but the contents of the object (e.g. the elements of a list or the attributes of a dictionary) are still references to the same objects as in the original.\n",
    "\n",
    "On the other hand, copy.deepcopy() creates a deep copy of an object. This means that it creates a new object with a new reference, and it also recursively creates new copies of all the objects that are referenced within the original object.\n",
    "\n",
    "Here is an example to illustrate the difference between copy.copy() and copy.deepcopy():\n",
    "\n"
   ]
  },
  {
   "cell_type": "code",
   "execution_count": 24,
   "metadata": {},
   "outputs": [
    {
     "name": "stdout",
     "output_type": "stream",
     "text": [
      "[[5, 2], [3, 4]]\n",
      "[[5, 2], [3, 4]]\n"
     ]
    }
   ],
   "source": [
    "import copy\n",
    "\n",
    "# Create a list with nested lists\n",
    "my_list = [[1, 2], [3, 4]]\n",
    "\n",
    "# Create a shallow copy of `my_list` using `copy.copy()`\n",
    "shallow_copy = copy.copy(my_list)\n",
    "\n",
    "# Modify the original list\n",
    "my_list[0][0] = 5\n",
    "\n",
    "# The shallow copy reflects the changes made to the original list,\n",
    "# because it contains references to the same objects as the original list\n",
    "print(shallow_copy)  # prints [[5, 2], [3, 4]]\n",
    "\n",
    "# Create a deep copy of `my_list` using `copy.deepcopy()`\n",
    "deep_copy = copy.deepcopy(my_list)\n",
    "\n",
    "# Modify the original list again\n",
    "my_list[0][0] = 1\n",
    "\n",
    "# The deep copy does not reflect the changes made to the original list,\n",
    "# because it contains new copies of all the objects in the original list\n",
    "print(deep_copy)  # prints [[5, 2], [3, 4]]\n"
   ]
  },
  {
   "cell_type": "markdown",
   "metadata": {},
   "source": [
    "In general, copy.copy() is faster and uses less memory than copy.deepcopy(), but it may not always give you the behavior that you want if the object you are copying contains references to other objects. copy.deepcopy() is more expensive in terms of performance and memory, but it ensures that you have a completely independent copy of the original object and all of its contents."
   ]
  },
  {
   "cell_type": "markdown",
   "metadata": {},
   "source": []
  }
 ],
 "metadata": {
  "kernelspec": {
   "display_name": "Python 3",
   "language": "python",
   "name": "python3"
  },
  "language_info": {
   "codemirror_mode": {
    "name": "ipython",
    "version": 3
   },
   "file_extension": ".py",
   "mimetype": "text/x-python",
   "name": "python",
   "nbconvert_exporter": "python",
   "pygments_lexer": "ipython3",
   "version": "3.10.5"
  },
  "orig_nbformat": 4,
  "vscode": {
   "interpreter": {
    "hash": "aee8b7b246df8f9039afb4144a1f6fd8d2ca17a180786b69acc140d282b71a49"
   }
  }
 },
 "nbformat": 4,
 "nbformat_minor": 2
}
