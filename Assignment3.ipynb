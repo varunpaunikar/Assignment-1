{
 "cells": [
  {
   "attachments": {},
   "cell_type": "markdown",
   "metadata": {},
   "source": [
    "1. Why are functions advantageous to have in your programs?\n",
    "\n",
    "Answer: \n",
    "\n",
    "1-Code Reuse: Functions allow you to reuse code blocks in multiple places in your program, which can save you a lot of time and effort. This can also help you avoid writing repetitive or redundant code.\n",
    "\n",
    "2-Modularity: Functions allow you to divide your code into logical blocks, which makes it easier to read, understand, and debug. This can also make it easier to modify and maintain your code over time.\n",
    "\n",
    "3-Abstraction: Functions allow you to abstract away the details of a particular operation, and focus on the overall logic of your program. This can make your code more readable and maintainable.\n",
    "\n",
    "4-Testing and Debugging: Functions allow you to test and debug code blocks independently, which can save you time and effort when trying to find and fix bugs.\n",
    "\n",
    "5-Efficiency: Functions can improve the efficiency of your program by allowing you to reuse code blocks and avoid repeating the same operations multiple times."
   ]
  },
  {
   "attachments": {},
   "cell_type": "markdown",
   "metadata": {},
   "source": [
    "2. When does the code in a function run: when it's specified or when it's called?\n",
    "\n",
    "Answer:\n",
    "\n",
    "The code in the function is not executed until the function is called by name from another part of the program."
   ]
  },
  {
   "attachments": {},
   "cell_type": "markdown",
   "metadata": {},
   "source": [
    "3. What statement creates a function?\n",
    "\n",
    "In Python, you can use the def keyword to create a function"
   ]
  },
  {
   "cell_type": "markdown",
   "metadata": {},
   "source": [
    "4. What is the difference between a function and a function call?"
   ]
  },
  {
   "cell_type": "code",
   "execution_count": 3,
   "metadata": {},
   "outputs": [
    {
     "data": {
      "text/plain": [
       "'\\n\\nIn Python, a function is a block of code that performs a specific task and can be called by name from another part of the program. A function call is an expression that invokes a function and executes the code in the function.\\n\\nHere is an example of a function definition in Python:\\n\\ndef greet(name):\\n\\n  print(\"Hello, \" + name + \"!\")\\n\\nThis function defines a block of code that prints a greeting to the console. The function has a name (greet) and takes a single parameter (name).\\n\\nTo call this function and execute the code in the function, you can use the function name followed by a pair of parentheses and any necessary arguments, like this:\\n\\ngreet(\"Alice\")  # prints \"Hello, Alice!\"\\n\\n\\nIn this example, the function call greet(\"Alice\") invokes the function and passes the string \"Alice\" as an argument to the function. This causes the code in the function to be executed, and the greeting is printed to the console.\\n\\nSo, to summarize, a function is a block of code that performs a specific task and can be called by name, while a function call is an expression that invokes a function and executes the code in the function. \\n'"
      ]
     },
     "execution_count": 3,
     "metadata": {},
     "output_type": "execute_result"
    }
   ],
   "source": [
    "'''\n",
    "\n",
    "In Python, a function is a block of code that performs a specific task and can be called by name from another part of the program. A function call is an expression that invokes a function and executes the code in the function.\n",
    "\n",
    "Here is an example of a function definition in Python:\n",
    "\n",
    "def greet(name):\n",
    "\n",
    "  print(\"Hello, \" + name + \"!\")\n",
    "\n",
    "This function defines a block of code that prints a greeting to the console. The function has a name (greet) and takes a single parameter (name).\n",
    "\n",
    "To call this function and execute the code in the function, you can use the function name followed by a pair of parentheses and any necessary arguments, like this:\n",
    "\n",
    "greet(\"Alice\")  # prints \"Hello, Alice!\"\n",
    "\n",
    "\n",
    "In this example, the function call greet(\"Alice\") invokes the function and passes the string \"Alice\" as an argument to the function. This causes the code in the function to be executed, and the greeting is printed to the console.\n",
    "\n",
    "So, to summarize, a function is a block of code that performs a specific task and can be called by name, while a function call is an expression that invokes a function and executes the code in the function. \n",
    "''' \n"
   ]
  },
  {
   "attachments": {},
   "cell_type": "markdown",
   "metadata": {},
   "source": [
    "5 How many global scopes are there in a Python program? How many local scopes?"
   ]
  },
  {
   "cell_type": "code",
   "execution_count": null,
   "metadata": {},
   "outputs": [],
   "source": [
    "# In a Python program, there is only one global scope, which contains all of the global variables and functions that are defined in the program. The global scope is created when the program starts, and it persists for the duration of the program.\n",
    "\n",
    "# There can be many local scopes in a Python program, depending on the structure of the code. A local scope is created whenever a function is called, or whenever a new block of code is entered (e.g., when a loop starts, or when an if statement is encountered). The local scope contains variables and functions that are defined within the function or block of code, and it only exists while the function is being executed or the block of code is being executed.\n",
    "\n",
    "# For example, consider the following Python program:"
   ]
  },
  {
   "cell_type": "code",
   "execution_count": 4,
   "metadata": {},
   "outputs": [
    {
     "name": "stdout",
     "output_type": "stream",
     "text": [
      "2\n"
     ]
    },
    {
     "ename": "NameError",
     "evalue": "name 'y' is not defined",
     "output_type": "error",
     "traceback": [
      "\u001b[0;31m---------------------------------------------------------------------------\u001b[0m",
      "\u001b[0;31mNameError\u001b[0m                                 Traceback (most recent call last)",
      "Cell \u001b[0;32mIn [4], line 8\u001b[0m\n\u001b[1;32m      5\u001b[0m   \u001b[39mprint\u001b[39m(y)  \u001b[39m# 2\u001b[39;00m\n\u001b[1;32m      7\u001b[0m foo()\n\u001b[0;32m----> 8\u001b[0m \u001b[39mprint\u001b[39m(y)\n",
      "\u001b[0;31mNameError\u001b[0m: name 'y' is not defined"
     ]
    }
   ],
   "source": [
    "x = 1  # x is a global variable\n",
    "\n",
    "def foo():\n",
    "  y = 2  # y is a local variable, defined within the function foo\n",
    "  print(y)  # 2\n",
    "\n",
    "foo()\n",
    "print(y)  # This will raise an error, because y is not defined in the global scope\n"
   ]
  },
  {
   "attachments": {},
   "cell_type": "markdown",
   "metadata": {},
   "source": [
    "In this example, there is only one global scope, which contains the variable x. When the function foo is called, a new local scope is created, containing the variable y. The variable y is only defined within this local scope, and it is not visible outside of the function. If we try to access y from the global scope, we will get an error, because y is not defined in the global scope."
   ]
  },
  {
   "attachments": {},
   "cell_type": "markdown",
   "metadata": {},
   "source": [
    "6. What happens to variables in a local scope when the function call returns?"
   ]
  },
  {
   "attachments": {},
   "cell_type": "markdown",
   "metadata": {},
   "source": [
    "When a function call returns, the local scope that was created for the function is destroyed, and any variables that were defined within that scope are no longer accessible. This is because the local scope is only in existence while the function is being executed, and it is destroyed when the function returns."
   ]
  },
  {
   "attachments": {},
   "cell_type": "markdown",
   "metadata": {},
   "source": [
    "7. What is the concept of a return value? Is it possible to have a return value in an expression?"
   ]
  },
  {
   "attachments": {},
   "cell_type": "markdown",
   "metadata": {},
   "source": [
    "In a Python program, a return value is the value that is returned by a function when it is called. When a function is called, it can execute a series of statements and then return a value to the caller. This value is known as the return value of the function.\n",
    "\n",
    "It is possible to have a return value in an expression. In Python, an expression is any statement that returns a value. For example, the following code defines a function that returns the sum of two numbers:"
   ]
  },
  {
   "cell_type": "code",
   "execution_count": 5,
   "metadata": {},
   "outputs": [],
   "source": [
    "def add(x, y):\n",
    "  return x + y\n",
    "\n",
    "result = add(3, 4)  # result is 7\n"
   ]
  },
  {
   "attachments": {},
   "cell_type": "markdown",
   "metadata": {},
   "source": [
    "In this example, the add function is called with the arguments 3 and 4. The function executes the statement return x + y, which returns the value 7. The return value is then stored in the variable result.\n",
    "\n",
    "It is important to note that not all statements in Python return a value. Only expressions return a value, and a return statement is an expression that returns a value from a function. Other statements, such as if statements and for loops, do not return a value.\n",
    "\n",
    "\n",
    "\n",
    "\n"
   ]
  },
  {
   "attachments": {},
   "cell_type": "markdown",
   "metadata": {},
   "source": [
    "8. If a function does not have a return statement, what is the return value of a call to that function?"
   ]
  },
  {
   "attachments": {},
   "cell_type": "markdown",
   "metadata": {},
   "source": [
    "If a function does not have a return statement, the return value of a call to that function is None.\n",
    "\n",
    "In Python, None is a special value that represents the absence of a value or a null value. It is an object of its own type, called NoneType.\n",
    "\n"
   ]
  },
  {
   "attachments": {},
   "cell_type": "markdown",
   "metadata": {},
   "source": [
    "9. How do you make a function variable refer to the global variable?"
   ]
  },
  {
   "attachments": {},
   "cell_type": "markdown",
   "metadata": {},
   "source": [
    "To make a function variable refer to a global variable, you can use the global keyword. This keyword tells Python that you want to use the global variable with the same name as the function variable, rather than creating a new local variable.\n",
    "\n",
    "For example, consider the following Python program:"
   ]
  },
  {
   "cell_type": "code",
   "execution_count": 6,
   "metadata": {},
   "outputs": [
    {
     "name": "stdout",
     "output_type": "stream",
     "text": [
      "2\n",
      "2\n"
     ]
    }
   ],
   "source": [
    "x = 1  # x is a global variable\n",
    "\n",
    "def foo():\n",
    "  global x  # Declare x as a global variable\n",
    "  x = 2  # Modify the value of the global variable x\n",
    "  print(x)  # 2\n",
    "\n",
    "foo()\n",
    "print(x)  # 2\n"
   ]
  },
  {
   "cell_type": "markdown",
   "metadata": {},
   "source": [
    "In this example, the function foo declares the variable x as a global variable using the global keyword. This allows the function to modify the value of the global variable x, which is defined outside of the function. When the function is called, it sets the value of x to 2, and this value is then printed by the function. When the function returns, the value of x is still 2, because the global variable was modified by the function.\n",
    "\n",
    "It is important to note that using the global keyword is only necessary if you want to modify the value of a global variable from within a function. If you only want to access the value of a global variable from within a function, you do not need to use the global keyword.\n",
    "\n",
    "For example:"
   ]
  },
  {
   "cell_type": "code",
   "execution_count": 7,
   "metadata": {},
   "outputs": [
    {
     "name": "stdout",
     "output_type": "stream",
     "text": [
      "1\n"
     ]
    }
   ],
   "source": [
    "x = 1  # x is a global variable\n",
    "\n",
    "def foo():\n",
    "  print(x)  # 1\n",
    "\n",
    "foo()\n"
   ]
  },
  {
   "cell_type": "markdown",
   "metadata": {},
   "source": [
    "In this example, the function foo does not use the global keyword, but it is still able to access the value of the global variable x. This is because the function is only reading the value of x, not modifying it."
   ]
  },
  {
   "attachments": {},
   "cell_type": "markdown",
   "metadata": {},
   "source": [
    "10. What is the data type of None?"
   ]
  },
  {
   "attachments": {},
   "cell_type": "markdown",
   "metadata": {},
   "source": [
    "In Python, None is a special value that represents the absence of a value or a null value. It is an object of its own type, called NoneType.\n",
    "\n"
   ]
  },
  {
   "attachments": {},
   "cell_type": "markdown",
   "metadata": {},
   "source": [
    "11. What does the sentence import areallyourpetsnamederic do?"
   ]
  },
  {
   "attachments": {},
   "cell_type": "markdown",
   "metadata": {},
   "source": [
    "It imports the function named areallyourpetsnamederic "
   ]
  },
  {
   "attachments": {},
   "cell_type": "markdown",
   "metadata": {},
   "source": [
    "12. If you had a bacon() feature in a spam module, what would you call it after importing spam?"
   ]
  },
  {
   "attachments": {},
   "cell_type": "markdown",
   "metadata": {},
   "source": [
    "from spam import bacon"
   ]
  },
  {
   "attachments": {},
   "cell_type": "markdown",
   "metadata": {},
   "source": [
    "13. What can you do to save a programme from crashing if it encounters an error?"
   ]
  },
  {
   "attachments": {},
   "cell_type": "markdown",
   "metadata": {},
   "source": [
    "Using try and except statements: You can use try and except statements to catch and handle errors that occur during the execution of a program. This allows you to gracefully recover from an error and continue executing the program, rather than crashing."
   ]
  },
  {
   "attachments": {},
   "cell_type": "markdown",
   "metadata": {},
   "source": [
    "14. What is the purpose of the try clause? What is the purpose of the except clause?"
   ]
  },
  {
   "cell_type": "markdown",
   "metadata": {},
   "source": [
    "The try clause in a Python program is used to define a block of code that may cause an error. The except clause is used to define a block of code that will be executed if an error occurs during the execution of the try clause.\n",
    "\n",
    "Here is an example of how try and except clauses are used in Python:"
   ]
  },
  {
   "cell_type": "code",
   "execution_count": 9,
   "metadata": {},
   "outputs": [
    {
     "data": {
      "text/plain": [
       "ZeroDivisionError('division by zero')"
      ]
     },
     "execution_count": 9,
     "metadata": {},
     "output_type": "execute_result"
    }
   ],
   "source": [
    "def divide(a,b):\n",
    "    try :\n",
    "        x = a/b \n",
    "    except Exception as e :\n",
    "        return (e)\n",
    "divide(5,0)"
   ]
  },
  {
   "attachments": {},
   "cell_type": "markdown",
   "metadata": {},
   "source": [
    "In this example, the try clause contains a statement that will raise a ZeroDivisionError when executed. The except clause specifies that if a ZeroDivisionError occurs, a message will be printed to the console. The except clause also includes a catch-all clause that will be executed if any other error occurs.\n",
    "\n",
    "The purpose of the try clause is to define a block of code that may cause an error, and the purpose of the except clause is to define a block of code that will be executed if an error occurs during the execution of the try clause. This allows you to gracefully recover from errors and continue executing your program, rather than crashing."
   ]
  },
  {
   "cell_type": "markdown",
   "metadata": {},
   "source": []
  }
 ],
 "metadata": {
  "kernelspec": {
   "display_name": "Python 3",
   "language": "python",
   "name": "python3"
  },
  "language_info": {
   "codemirror_mode": {
    "name": "ipython",
    "version": 3
   },
   "file_extension": ".py",
   "mimetype": "text/x-python",
   "name": "python",
   "nbconvert_exporter": "python",
   "pygments_lexer": "ipython3",
   "version": "3.10.5"
  },
  "orig_nbformat": 4,
  "vscode": {
   "interpreter": {
    "hash": "aee8b7b246df8f9039afb4144a1f6fd8d2ca17a180786b69acc140d282b71a49"
   }
  }
 },
 "nbformat": 4,
 "nbformat_minor": 2
}
