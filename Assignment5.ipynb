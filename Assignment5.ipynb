{
 "cells": [
  {
   "attachments": {},
   "cell_type": "markdown",
   "metadata": {},
   "source": [
    "1. What does an empty dictionary&#39;s code look like?"
   ]
  },
  {
   "cell_type": "code",
   "execution_count": 1,
   "metadata": {},
   "outputs": [
    {
     "name": "stdout",
     "output_type": "stream",
     "text": [
      "<class 'dict'>\n",
      "{}\n"
     ]
    }
   ],
   "source": [
    "d = {}\n",
    "print(type(d))\n",
    "print(d) \n"
   ]
  },
  {
   "cell_type": "markdown",
   "metadata": {},
   "source": [
    "2. What is the value of a dictionary value with the key &#39;foo&#39; and the value 42?"
   ]
  },
  {
   "cell_type": "code",
   "execution_count": 3,
   "metadata": {},
   "outputs": [],
   "source": [
    "d = {'foo':42} # value is 42"
   ]
  },
  {
   "attachments": {},
   "cell_type": "markdown",
   "metadata": {},
   "source": [
    "3.What is the most significant distinction between a dictionary and a list?\n"
   ]
  },
  {
   "attachments": {},
   "cell_type": "markdown",
   "metadata": {},
   "source": [
    "The most significant distinction between a dictionary and a list is the way that they are indexed.\n",
    "\n",
    "A list is an ordered collection of items, and each item in the list has a corresponding index. The indices of a list are integers, and they start at 0. You can access the items in a list using the indices, like this:"
   ]
  },
  {
   "cell_type": "code",
   "execution_count": 4,
   "metadata": {},
   "outputs": [],
   "source": [
    "my_list = [1, 2, 3, 4]\n",
    "\n",
    "# Access the first item in the list\n",
    "item = my_list[0]  # item is now 1\n",
    "\n",
    "# Access the third item in the list\n",
    "item = my_list[2]  # item is now 3\n"
   ]
  },
  {
   "attachments": {},
   "cell_type": "markdown",
   "metadata": {},
   "source": [
    "A dictionary, on the other hand, is a collection of key-value pairs. The keys in a dictionary are used to index the values, and they can be of any immutable type (such as integers, strings, or tuples). You can access the values in a dictionary using the keys, like this:"
   ]
  },
  {
   "cell_type": "code",
   "execution_count": 5,
   "metadata": {},
   "outputs": [],
   "source": [
    "my_dict = {'a': 1, 'b': 2, 'c': 3}\n",
    "\n",
    "# Access the value with key 'a'\n",
    "value = my_dict['a']  # value is now 1\n",
    "\n",
    "# Access the value with key 'c'\n",
    "value = my_dict['c']  # value is now 3\n"
   ]
  },
  {
   "attachments": {},
   "cell_type": "markdown",
   "metadata": {},
   "source": [
    "Another difference between lists and dictionaries is that the items in a list are ordered, while the key-value pairs in a dictionary are unordered. This means that the order in which the items appear in a list is significant, but the order of the key-value pairs in a dictionary is not."
   ]
  },
  {
   "cell_type": "code",
   "execution_count": 6,
   "metadata": {},
   "outputs": [
    {
     "name": "stdout",
     "output_type": "stream",
     "text": [
      "True\n",
      "True\n",
      "True\n",
      "True\n",
      "True\n",
      "True\n"
     ]
    }
   ],
   "source": [
    "my_list = [1, 2, 3]\n",
    "my_dict = {'a': 1, 'b': 2, 'c': 3}\n",
    "\n",
    "# The order of the items in `my_list` is significant\n",
    "print(my_list[0] == my_dict['a'])  # prints True\n",
    "print(my_list[1] == my_dict['b'])  # prints True\n",
    "print(my_list[2] == my_dict['c'])  # prints True\n",
    "\n",
    "# The order of the key-value pairs in `my_dict` is not significant\n",
    "print(my_dict['a'] == 1)  # prints True\n",
    "print(my_dict['b'] == 2)  # prints True\n",
    "print(my_dict['c'] == 3)  # prints True\n"
   ]
  },
  {
   "cell_type": "markdown",
   "metadata": {},
   "source": [
    "4. What happens if you try to access spam[&#39;foo&#39;] if spam is {&#39;bar&#39;: 100}?"
   ]
  },
  {
   "cell_type": "code",
   "execution_count": 7,
   "metadata": {},
   "outputs": [
    {
     "ename": "KeyError",
     "evalue": "'foo'",
     "output_type": "error",
     "traceback": [
      "\u001b[0;31m---------------------------------------------------------------------------\u001b[0m",
      "\u001b[0;31mKeyError\u001b[0m                                  Traceback (most recent call last)",
      "Cell \u001b[0;32mIn [7], line 2\u001b[0m\n\u001b[1;32m      1\u001b[0m spam \u001b[39m=\u001b[39m {\u001b[39m'\u001b[39m\u001b[39mbar\u001b[39m\u001b[39m'\u001b[39m:\u001b[39m100\u001b[39m}\n\u001b[0;32m----> 2\u001b[0m spam[\u001b[39m'\u001b[39;49m\u001b[39mfoo\u001b[39;49m\u001b[39m'\u001b[39;49m]\n",
      "\u001b[0;31mKeyError\u001b[0m: 'foo'"
     ]
    }
   ],
   "source": [
    "spam = {'bar':100}\n",
    "spam['foo']"
   ]
  },
  {
   "attachments": {},
   "cell_type": "markdown",
   "metadata": {},
   "source": [
    "5.if a dictionary is stored in spam,what is the difference between the expressions 'cat' in spam and 'cat' in spam.keys() ?"
   ]
  },
  {
   "attachments": {},
   "cell_type": "markdown",
   "metadata": {},
   "source": [
    "There is no difference . The operator checks whether a value exits as a key in the dictionary or not\n",
    "\n"
   ]
  },
  {
   "attachments": {},
   "cell_type": "markdown",
   "metadata": {},
   "source": [
    "6. If a dictionary is stored in spam, what is the difference between the expressions &#39;cat&#39; in spam and\n",
    "&#39;cat&#39; in spam.values()?"
   ]
  },
  {
   "cell_type": "markdown",
   "metadata": {},
   "source": [
    "The expression 'cat' in spam checks if the key 'cat' is present in the dictionary spam. It returns True if the key exists in the dictionary, and False if it does not.\n",
    "\n",
    "On the other hand, the expression 'cat' in spam.values() checks if the value 'cat' is present in the values of the dictionary spam. It returns True if the value exists in the dictionary's values, and False if it does not.\n",
    "\n",
    "Here is an example to illustrate the difference between these two expressions:\n",
    "\n"
   ]
  },
  {
   "cell_type": "code",
   "execution_count": 8,
   "metadata": {},
   "outputs": [
    {
     "name": "stdout",
     "output_type": "stream",
     "text": [
      "True\n",
      "False\n"
     ]
    }
   ],
   "source": [
    "spam = {'cat': 'meow', 'dog': 'woof', 'bird': 'tweet'}\n",
    "\n",
    "# Check if the key 'cat' is present in the dictionary\n",
    "print('cat' in spam)  # prints True\n",
    "\n",
    "# Check if the value 'cat' is present in the dictionary's values\n",
    "print('cat' in spam.values())  # prints False\n"
   ]
  },
  {
   "attachments": {},
   "cell_type": "markdown",
   "metadata": {},
   "source": [
    "Note that the in operator only checks for the presence of keys or values in the dictionary, not for the values associated with those keys. To check the value associated with a particular key, you can use the indexing notation:"
   ]
  },
  {
   "cell_type": "code",
   "execution_count": 9,
   "metadata": {},
   "outputs": [],
   "source": [
    "# Check the value associated with the key 'cat'\n",
    "value = spam['cat']  # value is now 'meow'\n"
   ]
  },
  {
   "attachments": {},
   "cell_type": "markdown",
   "metadata": {},
   "source": [
    "7. What is a shortcut for the following code?\n",
    "if &#39;color&#39; not in spam:\n",
    "spam[&#39;color&#39;] = &#39;black&#39;"
   ]
  },
  {
   "cell_type": "code",
   "execution_count": 11,
   "metadata": {},
   "outputs": [
    {
     "data": {
      "text/plain": [
       "{'cat': 'meow', 'dog': 'woof', 'bird': 'tweet', 'color': 'black'}"
      ]
     },
     "execution_count": 11,
     "metadata": {},
     "output_type": "execute_result"
    }
   ],
   "source": [
    "spam.setdefault('color','black')\n",
    "spam"
   ]
  },
  {
   "attachments": {},
   "cell_type": "markdown",
   "metadata": {},
   "source": [
    "8. How do you &quot;pretty print&quot; dictionary values using which module and function?"
   ]
  },
  {
   "attachments": {},
   "cell_type": "markdown",
   "metadata": {},
   "source": [
    "To \"pretty print\" dictionary values, you can use the pprint function from the pprint module.\n",
    "\n",
    "The pprint function is used to print complex data structures in a more readable format, by indenting and aligning the values in a way that is easier to read and understand. It is especially useful when printing large dictionaries or other data structures that would otherwise be difficult to read when printed on a single line.\n",
    "\n",
    "Here is an example of how to use the pprint function to pretty print the values in a dictionary:\n",
    "\n"
   ]
  },
  {
   "cell_type": "code",
   "execution_count": 12,
   "metadata": {},
   "outputs": [
    {
     "name": "stdout",
     "output_type": "stream",
     "text": [
      "{'a': 1, 'b': 2, 'c': 3}\n"
     ]
    }
   ],
   "source": [
    "import pprint\n",
    "\n",
    "my_dict = {'a': 1, 'b': 2, 'c': 3}\n",
    "\n",
    "# Pretty print the values in the dictionary\n",
    "pprint.pprint(my_dict)\n"
   ]
  },
  {
   "attachments": {},
   "cell_type": "markdown",
   "metadata": {},
   "source": [
    "This will print the dictionary in a more readable format, with each key-value pair on a separate line and the keys and values aligned:"
   ]
  },
  {
   "cell_type": "code",
   "execution_count": 13,
   "metadata": {},
   "outputs": [
    {
     "data": {
      "text/plain": [
       "{'a': 1, 'b': 2, 'c': 3}"
      ]
     },
     "execution_count": 13,
     "metadata": {},
     "output_type": "execute_result"
    }
   ],
   "source": [
    "{'a': 1,\n",
    " 'b': 2,\n",
    " 'c': 3}\n"
   ]
  },
  {
   "attachments": {},
   "cell_type": "markdown",
   "metadata": {},
   "source": [
    "You can also use the pprint.pformat function to get a pretty-printed string representation of a dictionary, rather than printing it directly. This can be useful if you want to save the pretty-printed output to a file or send it as a string in a network request."
   ]
  },
  {
   "cell_type": "code",
   "execution_count": 14,
   "metadata": {},
   "outputs": [
    {
     "name": "stdout",
     "output_type": "stream",
     "text": [
      "{'a': 1, 'b': 2, 'c': 3}\n"
     ]
    }
   ],
   "source": [
    "import pprint\n",
    "\n",
    "my_dict = {'a': 1, 'b': 2, 'c': 3}\n",
    "\n",
    "# Get a pretty-printed string representation of the dictionary\n",
    "output = pprint.pformat(my_dict)\n",
    "\n",
    "# Print the pretty-printed string\n",
    "print(output)\n"
   ]
  },
  {
   "cell_type": "code",
   "execution_count": null,
   "metadata": {},
   "outputs": [],
   "source": []
  }
 ],
 "metadata": {
  "kernelspec": {
   "display_name": "Python 3",
   "language": "python",
   "name": "python3"
  },
  "language_info": {
   "codemirror_mode": {
    "name": "ipython",
    "version": 3
   },
   "file_extension": ".py",
   "mimetype": "text/x-python",
   "name": "python",
   "nbconvert_exporter": "python",
   "pygments_lexer": "ipython3",
   "version": "3.10.5"
  },
  "orig_nbformat": 4,
  "vscode": {
   "interpreter": {
    "hash": "aee8b7b246df8f9039afb4144a1f6fd8d2ca17a180786b69acc140d282b71a49"
   }
  }
 },
 "nbformat": 4,
 "nbformat_minor": 2
}
